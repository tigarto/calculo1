{
 "cells": [
  {
   "cell_type": "code",
   "execution_count": 2,
   "metadata": {
    "collapsed": true
   },
   "outputs": [],
   "source": [
    "from sympy import *\n",
    "import numpy as np\n",
    "import matplotlib.pyplot as plt\n",
    "from sympy.geometry import Point, Line, Segment\n",
    "from IPython.display import display, Latex, Math, HTML, IFrame\n",
    "from IPython.display import Markdown as md"
   ]
  },
  {
   "cell_type": "markdown",
   "source": [
    "# Rectas\n",
    "\n",
    "## 1. Pendiente de una recta\n",
    "\n",
    "> **Pendiente de una recta**: La pendiente $m$ de una recta $L$ que no es vertical y pasa por los puntos $P_1(x_1,y_1)$ y $P_2(x_2,y_2)$ esta dada por:\n",
    "> $$m=\\Delta y/\\Delta x=(y_2-y_1)/(x_2-x_1)$$\n",
    "\n",
    "**Poner grafica**\n",
    "\n",
    "La inclinación (ya sea positiva o negativa) de una recta, depende del valor numérico de m, de tal manera que entre más grande sea. mayor es la inclinación (positiva o negativa). La siguiente grafica ilustra esto:"
   ],
   "metadata": {
    "collapsed": false,
    "pycharm": {
     "name": "#%% md\n"
    }
   }
  },
  {
   "cell_type": "code",
   "execution_count": 3,
   "outputs": [
    {
     "data": {
      "text/plain": "<IPython.lib.display.IFrame at 0x22b479f1df0>",
      "text/html": "\n        <iframe\n            width=\"500\"\n            height=\"500\"\n            src=\"https://www.desmos.com/calculator/zytmxtncrj?style=border%3A+1px+solid+%23ccc&frameborder=0\"\n            frameborder=\"0\"\n            allowfullscreen\n        ></iframe>\n        "
     },
     "execution_count": 3,
     "metadata": {},
     "output_type": "execute_result"
    }
   ],
   "source": [
    "IFrame(src='https://www.desmos.com/calculator/zytmxtncrj', width=500, height=500, style=\"border: 1px solid #ccc\", frameborder=0)"
   ],
   "metadata": {
    "collapsed": false,
    "pycharm": {
     "name": "#%%\n"
    }
   }
  },
  {
   "cell_type": "markdown",
   "source": [
    "Hola"
   ],
   "metadata": {
    "collapsed": false,
    "pycharm": {
     "name": "#%% md\n"
    }
   }
  }
 ],
 "metadata": {
  "kernelspec": {
   "display_name": "Python 3",
   "language": "python",
   "name": "python3"
  },
  "language_info": {
   "codemirror_mode": {
    "name": "ipython",
    "version": 2
   },
   "file_extension": ".py",
   "mimetype": "text/x-python",
   "name": "python",
   "nbconvert_exporter": "python",
   "pygments_lexer": "ipython2",
   "version": "2.7.6"
  }
 },
 "nbformat": 4,
 "nbformat_minor": 0
}