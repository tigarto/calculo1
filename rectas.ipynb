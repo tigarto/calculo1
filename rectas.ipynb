{
 "cells": [
  {
   "cell_type": "code",
   "execution_count": 11,
   "metadata": {
    "collapsed": true
   },
   "outputs": [],
   "source": [
    "from sympy import *\n",
    "import numpy as np\n",
    "import matplotlib.pyplot as plt\n",
    "from sympy.geometry import Point, Line, Segment\n",
    "from IPython.display import display, Latex, Math, HTML\n",
    "from IPython.display import Markdown as md"
   ]
  },
  {
   "cell_type": "markdown",
   "source": [
    "# Rectas\n",
    "\n",
    "## 1. Pendiente de una recta\n",
    "\n",
    "> **Pendiente de una recta**: La pendiente $m$ de una recta $L$ que no es vertical y pasa por los puntos $P_1(x_1,y_1)$ y $P_2(x_2,y_2)$ esta dada por:\n",
    "> $$m=\\Delta y/\\Delta x=(y_2-y_1)/(x_2-x_1)$$\n",
    "\n",
    "**Poner grafica**\n",
    "\n",
    "La inclinación (ya sea positiva o negativa) de una recta, depende del valor numérico de m, de tal manera que entre más grande sea. mayor es la inclinación (positiva o negativa). La siguiente grafica ilustra esto:"
   ],
   "metadata": {
    "collapsed": false,
    "pycharm": {
     "name": "#%% md\n"
    }
   }
  },
  {
   "cell_type": "code",
   "execution_count": 10,
   "outputs": [],
   "source": [
    "display(HTML('<iframe src=\"https://www.desmos.com/calculator/zytmxtncrj?embed\" width=\"500\" height=\"500\" style=\"border: 1px solid #ccc\" frameborder=0></iframe>'))"
   ],
   "metadata": {
    "collapsed": false,
    "pycharm": {
     "name": "#%%\n"
    }
   }
  }
 ],
 "metadata": {
  "kernelspec": {
   "display_name": "Python 3",
   "language": "python",
   "name": "python3"
  },
  "language_info": {
   "codemirror_mode": {
    "name": "ipython",
    "version": 2
   },
   "file_extension": ".py",
   "mimetype": "text/x-python",
   "name": "python",
   "nbconvert_exporter": "python",
   "pygments_lexer": "ipython2",
   "version": "2.7.6"
  }
 },
 "nbformat": 4,
 "nbformat_minor": 0
}