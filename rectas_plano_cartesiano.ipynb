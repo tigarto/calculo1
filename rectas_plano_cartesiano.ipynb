{
 "cells": [
  {
   "cell_type": "code",
   "execution_count": 85,
   "metadata": {
    "collapsed": true
   },
   "outputs": [],
   "source": [
    "from sympy import *\n",
    "import numpy as np\n",
    "import matplotlib.pyplot as plt\n",
    "from sympy.geometry import Point, Line, Segment\n",
    "from IPython.display import display, Latex, Math\n",
    "from IPython.display import Markdown as md"
   ]
  },
  {
   "cell_type": "markdown",
   "source": [
    "# COORDENADAS GEOMETRICAS Y ECUACIÓN DE LA RECTA\n",
    "\n",
    "## 1. Coordenadas geométricas\n",
    "\n",
    "El plano coordenado es el vínculo entre el álgebra y la geometría pues en este, podemos trazar gráficas de ecuaciones algebraicas, las cuales, nos permiten ver la relación existente entre las variables de una ecuación. La siguiente figura muestra un plano ordenado y sus partes:\n",
    "* **Origen (O)**: Punto de intersección de los ejes.\n",
    "* **Eje x**: Recta horizontal positiva hacia la derecha.\n",
    "* **Eje y**: Recta vertical positiva hacia arriba.\n",
    "* **Cuadrantes**: Cada una de las regiones del plano coordenado: I, II, III y IV.\n",
    "\n",
    "**Poner la figura del plano cartesiano**\n",
    "\n"
   ],
   "metadata": {
    "collapsed": false,
    "pycharm": {
     "name": "#%% md\n"
    }
   }
  },
  {
   "cell_type": "markdown",
   "source": [
    "### 1.1. Localización de un punto\n",
    "\n",
    "Cualquier punto P en el plano coordenado se puede ubicar por medio de un único par ordenado de números (a,b). El primer número (a), se llama coordenada x mientras el segundo (b) se llama coordenada x.\n",
    "\n",
    "**Grafica**\n",
    "\n",
    "#### Ejemplo\n",
    "\n",
    "1. \tUbicar en el plano cartesiano los puntos: (-4,3), (0,4), (1,2), (-3/2,-2) y (3.5,0)."
   ],
   "metadata": {
    "collapsed": false,
    "pycharm": {
     "name": "#%% md\n"
    }
   }
  },
  {
   "cell_type": "code",
   "execution_count": 25,
   "outputs": [
    {
     "data": {
      "text/plain": "<Figure size 432x288 with 1 Axes>",
      "image/png": "[encoded data removed]"
     },
     "metadata": {
      "needs_background": "light"
     },
     "output_type": "display_data"
    }
   ],
   "source": [
    "x_coords = [-4, 0 , 1, -3/2 ,3.5]\n",
    "y_coords = [3, 4 ,2,-2 ,0]\n",
    "plt.scatter(x_coords,y_coords)\n",
    "plt.title(\"Plano cartesiano\")\n",
    "plt.grid()\n",
    "plt.xlabel('x')\n",
    "plt.ylabel('y')\n",
    "plt.xlim([-6, 6])\n",
    "plt.ylim([-6, 6])\n",
    "for x,y in zip(x_coords,y_coords):\n",
    "\n",
    "    label = f\"({x},{y})\"\n",
    "\n",
    "    plt.annotate(label,\n",
    "                 (x,y),\n",
    "                 textcoords=\"offset points\",\n",
    "                 xytext=(0,10),\n",
    "                 ha='center')"
   ],
   "metadata": {
    "collapsed": false,
    "pycharm": {
     "name": "#%%\n"
    }
   }
  },
  {
   "cell_type": "markdown",
   "source": [
    "2. Ubicar en el plano cartesiano los puntos: (-2,2), (-3,-2), (2,-4), (5,0) y (1,3).\n"
   ],
   "metadata": {
    "collapsed": false,
    "pycharm": {
     "name": "#%% md\n"
    }
   }
  },
  {
   "cell_type": "code",
   "execution_count": 26,
   "outputs": [
    {
     "data": {
      "text/plain": "<Figure size 432x288 with 1 Axes>",
      "image/png": "[encoded data removed]"
     },
     "metadata": {
      "needs_background": "light"
     },
     "output_type": "display_data"
    }
   ],
   "source": [
    "x_coords = [-2, -3 , 2, 5 , 1]\n",
    "y_coords = [2, -2 , -4, 0 ,3]\n",
    "plt.scatter(x_coords,y_coords)\n",
    "plt.title(\"Plano cartesiano\")\n",
    "plt.grid()\n",
    "plt.xlabel('x')\n",
    "plt.ylabel('y')\n",
    "plt.xlim([-6, 6])\n",
    "plt.ylim([-6, 6])\n",
    "for x,y in zip(x_coords,y_coords):\n",
    "\n",
    "    label = f\"({x},{y})\"\n",
    "\n",
    "    plt.annotate(label,\n",
    "                 (x,y),\n",
    "                 textcoords=\"offset points\",\n",
    "                 xytext=(0,10),\n",
    "                 ha='center')"
   ],
   "metadata": {
    "collapsed": false,
    "pycharm": {
     "name": "#%%\n"
    }
   }
  },
  {
   "cell_type": "markdown",
   "source": [
    "## 1.2. Distancia entre puntos\n",
    "\n",
    "Dados dos puntos distintos $P_1(x_1,y_1)$ y $P_2(x_2,y_2)$ tal y como se muestra en la siguiente figura:\n",
    "\n",
    "**Figura**\n",
    "\n",
    "Entonces la fórmula para obtener la distancia entre $P_1$ y $P_2$ esta dada por:\n",
    "\n",
    "> **Formula de la distancia entre puntos**: La distancia entre los puntos $P_1(x_1,y_1)$ y $P_2(x_2,y_2)$\n",
    "> cualesquiera, está dada por:\n",
    ">\n",
    "> $$d(P_1,P_2 )=|P_1,P_2 |=\\sqrt{(x_2-x_1 )^2+(y_2-y_1 )^2}$$\n",
    "\n",
    "#### Ejemplo\n",
    "\n",
    "1. \tLocalice los puntos $A(8,-5)$ y $B(3,7)$ y encuentre la distancia entre estos."
   ],
   "metadata": {
    "collapsed": false,
    "pycharm": {
     "name": "#%% md\n"
    }
   }
  },
  {
   "cell_type": "code",
   "execution_count": 28,
   "outputs": [
    {
     "data": {
      "text/plain": "13",
      "text/latex": "$\\displaystyle 13$"
     },
     "execution_count": 28,
     "metadata": {},
     "output_type": "execute_result"
    }
   ],
   "source": [
    "A = Point(8, -5)\n",
    "B = Point(3, 7)\n",
    "d_AB = A.distance(B)\n",
    "d_AB"
   ],
   "metadata": {
    "collapsed": false,
    "pycharm": {
     "name": "#%%\n"
    }
   }
  },
  {
   "cell_type": "markdown",
   "source": [
    "2. \t¿Cuál de los puntos $P(1,2)$ o $Q(8,9)$ está más cerca del punto $A(5,3)$?"
   ],
   "metadata": {
    "collapsed": false,
    "pycharm": {
     "name": "#%% md\n"
    }
   }
  },
  {
   "cell_type": "code",
   "execution_count": 108,
   "outputs": [
    {
     "data": {
      "text/plain": "<IPython.core.display.Markdown object>",
      "text/markdown": "$dAP = sqrt(17)$"
     },
     "metadata": {},
     "output_type": "display_data"
    },
    {
     "data": {
      "text/plain": "<IPython.core.display.Markdown object>",
      "text/markdown": "$dAQ = 3*sqrt(5)$"
     },
     "metadata": {},
     "output_type": "display_data"
    }
   ],
   "source": [
    "P = Point(1, 2)\n",
    "Q = Point(8, 9)\n",
    "A = Point(5, 3)\n",
    "d_AP = A.distance(P)\n",
    "d_AQ = A.distance(Q)\n",
    "display(md(\"$dAP = {0}$\".format(d_AP)))\n",
    "display(md(\"$dAQ = {0}$\".format(d_AQ)))"
   ],
   "metadata": {
    "collapsed": false,
    "pycharm": {
     "name": "#%%\n"
    }
   }
  },
  {
   "cell_type": "markdown",
   "source": [
    "3. \tDetermine si los puntos $P_1(7,1)$, $P_2(-4,-1)$ y $P_3(4,5)$ son los vértices de un triángulo rectángulo."
   ],
   "metadata": {
    "collapsed": false,
    "pycharm": {
     "name": "#%% md\n"
    }
   }
  },
  {
   "cell_type": "code",
   "execution_count": 109,
   "outputs": [
    {
     "data": {
      "text/plain": "<IPython.core.display.Markdown object>",
      "text/markdown": "$dP1P2 = 5*sqrt(5)$"
     },
     "metadata": {},
     "output_type": "display_data"
    },
    {
     "data": {
      "text/plain": "<IPython.core.display.Markdown object>",
      "text/markdown": "$dP1P3 = 5$"
     },
     "metadata": {},
     "output_type": "display_data"
    },
    {
     "data": {
      "text/plain": "<IPython.core.display.Markdown object>",
      "text/markdown": "$dP2P3 = 10$"
     },
     "metadata": {},
     "output_type": "display_data"
    },
    {
     "data": {
      "text/plain": "<IPython.core.display.Markdown object>",
      "text/markdown": "$(dP1P2)^2 + (dP1P3)^2 = (dP2P3)^2$"
     },
     "metadata": {},
     "output_type": "display_data"
    }
   ],
   "source": [
    "P1 = Point(7, 1)\n",
    "P2 = Point(-4, -1)\n",
    "P3 = Point(4, 5)\n",
    "d_P1P2 = P1.distance(P2)\n",
    "d_P2P3 = P2.distance(P3)\n",
    "d_P1P3 = P1.distance(P3)\n",
    "\n",
    "display(md(\"$dP1P2 = {0}$\".format(d_P1P2)))\n",
    "display(md(\"$dP1P3 = {0}$\".format(d_P1P3)))\n",
    "display(md(\"$dP2P3 = {0}$\".format(d_P2P3)))\n",
    "\n",
    "display(md(\"$(dP1P2)^2 + (dP1P3)^2 = (dP2P3)^2$\"))"
   ],
   "metadata": {
    "collapsed": false,
    "pycharm": {
     "name": "#%%\n"
    }
   }
  },
  {
   "cell_type": "markdown",
   "source": [
    "## 1.3. Punto medio\n",
    "\n",
    "La siguiente figura muestra un segmento de recta entre dos puntos $$P_1(x_1,y_1)$$ y $$P_2(x_2,y_2 )$$"
   ],
   "metadata": {
    "collapsed": false
   }
  },
  {
   "cell_type": "markdown",
   "source": [
    "**Grafica**\n",
    "\n",
    "Para hallar el punto medio de un segmento de recta se emplea la siguiente formula:\n",
    "\n",
    "> **Cálculo del punto medio**: El punto medio $M$ del segmento de recta de $P_1(x_1,y_1)$ a $P_2(x_2,y_2)$ es:\n",
    ">\n",
    "> $$\\left (\\frac{x_1+x_2}{2},\\frac{y_1+y_2}{2}\\right )$$\n",
    "\n",
    "**Ejemplo**\n",
    "\n",
    "Encuentre el punto medio $M$ del segmento de recta de $P_1(-2,3)$ a $P_2(4,-2)$ y verifique que $d(P_1,M)=d(P_2,M)$"
   ],
   "metadata": {
    "collapsed": false
   }
  },
  {
   "cell_type": "code",
   "execution_count": 115,
   "outputs": [
    {
     "data": {
      "text/plain": "<IPython.core.display.Markdown object>",
      "text/markdown": "$M = (1, 1/2)$"
     },
     "metadata": {},
     "output_type": "display_data"
    }
   ],
   "source": [
    "P1 = Point2D(-2,3)\n",
    "P2 = Point2D(4,-2)\n",
    "segP1P2 = Segment2D(P1,P2)\n",
    "M = segP1P2.midpoint\n",
    "display(md(\"$M = {0}$\".format(M.coordinates)))"
   ],
   "metadata": {
    "collapsed": false,
    "pycharm": {
     "name": "#%%\n"
    }
   }
  }
 ],
 "metadata": {
  "kernelspec": {
   "display_name": "Python 3",
   "language": "python",
   "name": "python3"
  },
  "language_info": {
   "codemirror_mode": {
    "name": "ipython",
    "version": 2
   },
   "file_extension": ".py",
   "mimetype": "text/x-python",
   "name": "python",
   "nbconvert_exporter": "python",
   "pygments_lexer": "ipython2",
   "version": "2.7.6"
  }
 },
 "nbformat": 4,
 "nbformat_minor": 0
}